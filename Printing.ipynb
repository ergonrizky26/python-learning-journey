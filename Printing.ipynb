{
  "nbformat": 4,
  "nbformat_minor": 0,
  "metadata": {
    "colab": {
      "provenance": [],
      "authorship_tag": "ABX9TyNsFfSzbflwrTKRLrnMQzGR",
      "include_colab_link": true
    },
    "kernelspec": {
      "name": "python3",
      "display_name": "Python 3"
    },
    "language_info": {
      "name": "python"
    }
  },
  "cells": [
    {
      "cell_type": "markdown",
      "metadata": {
        "id": "view-in-github",
        "colab_type": "text"
      },
      "source": [
        "<a href=\"https://colab.research.google.com/github/ergonrizky26/python-learning-journey/blob/release%2Fdev%2Fpython/Printing.ipynb\" target=\"_parent\"><img src=\"https://colab.research.google.com/assets/colab-badge.svg\" alt=\"Open In Colab\"/></a>"
      ]
    },
    {
      "cell_type": "markdown",
      "source": [
        "# Printing"
      ],
      "metadata": {
        "id": "0PYyiA5AHvZN"
      }
    },
    {
      "cell_type": "markdown",
      "source": [
        "## How to print a text"
      ],
      "metadata": {
        "id": "LYGmVTCBIWMI"
      }
    },
    {
      "cell_type": "markdown",
      "source": [
        "\n",
        "\n",
        "*   printing atau print() digunakan untuk menampilkan sesuatu lewat Python\n",
        "*   Untuk menampilkan sebuah pesan text bisa dengan menggunakan print dengan syntax :\n",
        "\n",
        "\n",
        "```\n",
        "print(\"<TEXT YANG INGIN DITAMPIKAN>\")\n",
        "```\n",
        "\n",
        "\n"
      ],
      "metadata": {
        "id": "s-yjFJS9IY7j"
      }
    },
    {
      "cell_type": "markdown",
      "source": [
        "\n",
        "\n",
        "*   Misalkan ingin menampilkan kalimat **Hello World**\n",
        "*   Bisa dilakukan dengan syntax berikut:\n",
        "\n",
        "\n",
        "\n",
        "```\n",
        "print(\"Hello World!\")\n",
        "```\n",
        "\n"
      ],
      "metadata": {
        "id": "1o1rNWt1I5XV"
      }
    },
    {
      "cell_type": "code",
      "source": [
        "print(\"Hello World!\")"
      ],
      "metadata": {
        "colab": {
          "base_uri": "https://localhost:8080/"
        },
        "id": "o5u3GT7nJe8r",
        "outputId": "07c874d8-002a-45fc-d2f1-cd8bc3270255"
      },
      "execution_count": 1,
      "outputs": [
        {
          "output_type": "stream",
          "name": "stdout",
          "text": [
            "Hello World!\n"
          ]
        }
      ]
    },
    {
      "cell_type": "markdown",
      "source": [
        "### Exercise\n",
        "\n",
        "Coba print kalimat **\"Halo Dunia!\"**"
      ],
      "metadata": {
        "id": "Q_VF-2ffJyq4"
      }
    },
    {
      "cell_type": "code",
      "source": [
        "print(\"Halo Dunia!\")"
      ],
      "metadata": {
        "colab": {
          "base_uri": "https://localhost:8080/"
        },
        "id": "_S-3pQjwKF96",
        "outputId": "c6a0f57f-7a27-4c5c-a1ad-3e61088f2919"
      },
      "execution_count": 2,
      "outputs": [
        {
          "output_type": "stream",
          "name": "stdout",
          "text": [
            "Halo Dunia!\n"
          ]
        }
      ]
    },
    {
      "cell_type": "markdown",
      "source": [
        "Coba print text \"Saya sedang belajar menggunakan print\""
      ],
      "metadata": {
        "id": "qtBcwZpiKJHQ"
      }
    },
    {
      "cell_type": "code",
      "source": [
        "print(\"Saya sedang belajar menggunakan print\")"
      ],
      "metadata": {
        "colab": {
          "base_uri": "https://localhost:8080/"
        },
        "id": "IoNBPOqsKRDo",
        "outputId": "06e86345-3990-4616-82b7-14b06020cefe"
      },
      "execution_count": 3,
      "outputs": [
        {
          "output_type": "stream",
          "name": "stdout",
          "text": [
            "Saya sedang belajar menggunakan print\n"
          ]
        }
      ]
    },
    {
      "cell_type": "markdown",
      "source": [
        "## How to print a number"
      ],
      "metadata": {
        "id": "5CGfoWmgKUxH"
      }
    },
    {
      "cell_type": "markdown",
      "source": [
        "\n",
        "\n",
        "*   Untuk melakukan printing berupa angka dapat dengan menggunakan syntax:\n",
        "\n",
        "\n",
        "```\n",
        "print(<ANGKA YANG INGIN DITAMPILKAN>)\n",
        "```\n",
        "\n",
        "* Bedanya dengan text, apabila ingin melakukan printing berupa angka tidak perlu diikuti dengan tanda petik satu **('')** maupun tanda petik dua **(\"\")**\n",
        "\n",
        "\n",
        "\n"
      ],
      "metadata": {
        "id": "oDe2zd1DKdLH"
      }
    },
    {
      "cell_type": "code",
      "source": [
        "print(23)"
      ],
      "metadata": {
        "colab": {
          "base_uri": "https://localhost:8080/"
        },
        "id": "QXEuDWRALFXa",
        "outputId": "7ade9c5f-7277-4f4b-ef26-bf5aa938be33"
      },
      "execution_count": 4,
      "outputs": [
        {
          "output_type": "stream",
          "name": "stdout",
          "text": [
            "23\n"
          ]
        }
      ]
    },
    {
      "cell_type": "code",
      "source": [
        "print(35)"
      ],
      "metadata": {
        "colab": {
          "base_uri": "https://localhost:8080/"
        },
        "id": "n8EBy3HeLHnY",
        "outputId": "e96c2660-57f9-476a-c109-276ec524741f"
      },
      "execution_count": 5,
      "outputs": [
        {
          "output_type": "stream",
          "name": "stdout",
          "text": [
            "35\n"
          ]
        }
      ]
    },
    {
      "cell_type": "markdown",
      "source": [
        "### Exercise\n",
        "\n",
        "Coba print tanggal hari ini"
      ],
      "metadata": {
        "id": "nzZRWQspLJov"
      }
    },
    {
      "cell_type": "code",
      "source": [
        "print(13)"
      ],
      "metadata": {
        "colab": {
          "base_uri": "https://localhost:8080/"
        },
        "id": "Xc-9yMmhLO1M",
        "outputId": "ff1ec97a-8601-4899-9385-c24ae2be46d2"
      },
      "execution_count": 6,
      "outputs": [
        {
          "output_type": "stream",
          "name": "stdout",
          "text": [
            "13\n"
          ]
        }
      ]
    },
    {
      "cell_type": "markdown",
      "source": [
        "* Terdapat bangun ruang persegi dengan sisi 10cm\n",
        "* coba print sisi bangun tersebut"
      ],
      "metadata": {
        "id": "fob3KbrdLQZe"
      }
    },
    {
      "cell_type": "code",
      "source": [
        "print(10)"
      ],
      "metadata": {
        "colab": {
          "base_uri": "https://localhost:8080/"
        },
        "id": "kv9RwqW2LeIk",
        "outputId": "e6d2d93b-e0d7-4b2f-cfab-90e128a5214b"
      },
      "execution_count": 7,
      "outputs": [
        {
          "output_type": "stream",
          "name": "stdout",
          "text": [
            "10\n"
          ]
        }
      ]
    },
    {
      "cell_type": "markdown",
      "source": [
        "* Perusahaan A mendapatkan profit sebesar 50.000 USD di bulan Oktober\n",
        "* Coba print angka besar profit yang didapat perusahaan A"
      ],
      "metadata": {
        "id": "Oh8d1bg6LfA2"
      }
    },
    {
      "cell_type": "code",
      "source": [
        "print(50000)"
      ],
      "metadata": {
        "colab": {
          "base_uri": "https://localhost:8080/"
        },
        "id": "Gwtiq6vFLvrP",
        "outputId": "45013943-8be2-4921-cd44-197712fa81ab"
      },
      "execution_count": 8,
      "outputs": [
        {
          "output_type": "stream",
          "name": "stdout",
          "text": [
            "50000\n"
          ]
        }
      ]
    }
  ]
}